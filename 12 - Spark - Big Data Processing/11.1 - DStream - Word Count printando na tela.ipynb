{
 "cells": [
  {
   "cell_type": "code",
   "execution_count": null,
   "metadata": {},
   "outputs": [],
   "source": [
    "spark"
   ]
  },
  {
   "cell_type": "code",
   "execution_count": null,
   "metadata": {},
   "outputs": [],
   "source": [
    "sc"
   ]
  },
  {
   "cell_type": "markdown",
   "metadata": {},
   "source": [
    "### Instalação no ambiente do docker desktop\n",
    "Instalar o netcat para utilizar uma porta no jupyter-spark para poder enviar dados via tcp.\n",
    "\n",
    "docker exec -it jupyter-spark bash\n",
    "root@jupyter-spark:/# apt update\n",
    "\n",
    "root@jupyter-spark:/# apt install netcat\n",
    "\n",
    "root@jupyter-spark:/# "
   ]
  },
  {
   "cell_type": "markdown",
   "metadata": {},
   "source": [
    "#### DStream não termina. Recebe o dado e processa!"
   ]
  },
  {
   "cell_type": "markdown",
   "metadata": {},
   "source": [
    "### Exercício DStream - WordCount"
   ]
  },
  {
   "cell_type": "code",
   "execution_count": null,
   "metadata": {},
   "outputs": [],
   "source": [
    "# criando um diretório no HDFS\n",
    "\n",
    "!hdfs dfs -mkdir /user/feliciani/stream"
   ]
  },
  {
   "cell_type": "code",
   "execution_count": null,
   "metadata": {},
   "outputs": [],
   "source": [
    "# importando o Streaming Context\n",
    "\n",
    "from pyspark import SparkContext\n",
    "from pyspark.streaming import StreamingContext\n",
    "from time import sleep"
   ]
  },
  {
   "cell_type": "code",
   "execution_count": null,
   "metadata": {},
   "outputs": [],
   "source": [
    "# criando o local e o nome da aplicação\n",
    "conf = SparkConf().setMaster(\"local[*]\").setAppName(\"Dstream WordCount\")\n",
    "\n",
    "sc = SparkContext.getOrCreate(conf)\n",
    "\n",
    "# criando o Streaming Context no spark de 10 em 10 segundos\n",
    "ssc = StreamingContext(sc,10)"
   ]
  },
  {
   "cell_type": "code",
   "execution_count": null,
   "metadata": {},
   "outputs": [],
   "source": [
    "# criando o Dstream a partir de uma porta de entrada tcp\n",
    "# localhost, neste caso é o container jupyter-spark\n",
    "# porta 9989 pode ser utilizado, por que o netcat foi instaldo com sucesso\n",
    "\n",
    "dstream = ssc.socketTextStream(\"localhost\",9998)\n"
   ]
  },
  {
   "cell_type": "code",
   "execution_count": null,
   "metadata": {},
   "outputs": [],
   "source": [
    "# pegará a mapeará a linha e fará um split por espaço\n",
    "\n",
    "word_count = dstream.flatMap(lambda linha: linha.split(\" \"))\\\n",
    "                    .map(lambda palavra: (palavra,1))\\  # cada palavra que foi separada com o split será mapeada em chave e valor\n",
    "                    .reduceByKey(lambda chave1, chave2: chave1 + chave2) # contando as palavras"
   ]
  },
  {
   "cell_type": "code",
   "execution_count": null,
   "metadata": {},
   "outputs": [],
   "source": [
    "# vai printar os Dstream que estão chegando\n",
    "\n",
    "word_count.pprint()"
   ]
  },
  {
   "cell_type": "markdown",
   "metadata": {},
   "source": [
    "#### no terminal container do jupyter-spark digitar\n",
    "#### root@jupyter-spark:/# nc -lp 9998\n",
    "(vai associar os dados que estão chegando a porta 9998,  l = listem, p = porta)\n",
    "\n",
    "Todo dado inserido nesse terminal, será printado no jupyter notebook abaixo do comando ssc.start()"
   ]
  },
  {
   "cell_type": "code",
   "execution_count": null,
   "metadata": {},
   "outputs": [],
   "source": [
    "ssc.start() # inicia o processo e print a cada 10 segundos\n",
    "\n",
    "sleep(50) # depois de 5 prints vai parar, e ir para o stop()\n",
    "\n",
    "ssc.stop() # pára o processo"
   ]
  }
 ],
 "metadata": {
  "kernelspec": {
   "display_name": "Python 3.8.2 64-bit",
   "language": "python",
   "name": "python38264bit6a434ccf4cbd411aa9abb0f2283574a5"
  },
  "language_info": {
   "codemirror_mode": {
    "name": "ipython",
    "version": 3
   },
   "file_extension": ".py",
   "mimetype": "text/x-python",
   "name": "python",
   "nbconvert_exporter": "python",
   "pygments_lexer": "ipython3",
   "version": "3.8.2"
  }
 },
 "nbformat": 4,
 "nbformat_minor": 4
}
