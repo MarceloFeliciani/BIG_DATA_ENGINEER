{
 "cells": [
  {
   "cell_type": "markdown",
   "metadata": {},
   "source": [
    "## Sessão e contexto do Spark"
   ]
  },
  {
   "cell_type": "code",
   "execution_count": 2,
   "metadata": {
    "scrolled": true
   },
   "outputs": [
    {
     "data": {
      "text/html": [
       "\n",
       "            <div>\n",
       "                <p><b>SparkSession - hive</b></p>\n",
       "                \n",
       "        <div>\n",
       "            <p><b>SparkContext</b></p>\n",
       "\n",
       "            <p><a href=\"http://jupyter-spark:4040\">Spark UI</a></p>\n",
       "\n",
       "            <dl>\n",
       "              <dt>Version</dt>\n",
       "                <dd><code>v2.4.1</code></dd>\n",
       "              <dt>Master</dt>\n",
       "                <dd><code>local[*]</code></dd>\n",
       "              <dt>AppName</dt>\n",
       "                <dd><code>pyspark-shell</code></dd>\n",
       "            </dl>\n",
       "        </div>\n",
       "        \n",
       "            </div>\n",
       "        "
      ],
      "text/plain": [
       "<pyspark.sql.session.SparkSession at 0x7f4aeaaa19b0>"
      ]
     },
     "execution_count": 2,
     "metadata": {},
     "output_type": "execute_result"
    }
   ],
   "source": [
    "# Informações da sessão de spark (spark)\n",
    "spark"
   ]
  },
  {
   "cell_type": "code",
   "execution_count": 3,
   "metadata": {},
   "outputs": [
    {
     "data": {
      "text/html": [
       "\n",
       "        <div>\n",
       "            <p><b>SparkContext</b></p>\n",
       "\n",
       "            <p><a href=\"http://jupyter-spark:4040\">Spark UI</a></p>\n",
       "\n",
       "            <dl>\n",
       "              <dt>Version</dt>\n",
       "                <dd><code>v2.4.1</code></dd>\n",
       "              <dt>Master</dt>\n",
       "                <dd><code>local[*]</code></dd>\n",
       "              <dt>AppName</dt>\n",
       "                <dd><code>pyspark-shell</code></dd>\n",
       "            </dl>\n",
       "        </div>\n",
       "        "
      ],
      "text/plain": [
       "<SparkContext master=local[*] appName=pyspark-shell>"
      ]
     },
     "execution_count": 3,
     "metadata": {},
     "output_type": "execute_result"
    }
   ],
   "source": [
    "# Informações do contexto do spark (sc)\n",
    "sc"
   ]
  },
  {
   "cell_type": "code",
   "execution_count": 4,
   "metadata": {},
   "outputs": [],
   "source": [
    "# Setar o log como INFO\n",
    "spark.sparkContext.setLogLevel(\"INFO\")"
   ]
  },
  {
   "cell_type": "code",
   "execution_count": 5,
   "metadata": {},
   "outputs": [
    {
     "data": {
      "text/plain": [
       "[Database(name='default', description='Default Hive database', locationUri='hdfs://namenode:8020/user/hive/warehouse')]"
      ]
     },
     "execution_count": 5,
     "metadata": {},
     "output_type": "execute_result"
    }
   ],
   "source": [
    "# Visualizar todos os bancos de dados com o catalog\n",
    "\n",
    "spark.catalog.listDatabases()\n",
    "\n",
    "# o resultado deve ser esse:\n",
    "#[Database(name='default', description='Default Hive database', locationUrl='hdfs://namenode:8020/user/hive/warehouse')]"
   ]
  },
  {
   "cell_type": "code",
   "execution_count": 6,
   "metadata": {},
   "outputs": [],
   "source": [
    "# Ler os dados do HDFS \"hdfs://namenode:8020/user/feliciani/data/juros_selic/juros_selic.json“ com uso de Dataframe\n",
    "\n",
    "juros = spark.read.json(\"hdfs://namenode:8020/user/feliciani/data/juros_selic/juros_selic.json\")\n",
    "\n",
    "# juros = spark.read.json(\"/namenode:8020/user/feliciani/data/juros_selic/juros_selic.json\") Também iria ler do HDFS por que ele é o padrão\n",
    "# juros = spark.read.json(\"hdfs:///user/feliciani/data/juros_selic/juros_selic.json\") Também iria ler do HDFS "
   ]
  },
  {
   "cell_type": "code",
   "execution_count": 7,
   "metadata": {},
   "outputs": [
    {
     "name": "stdout",
     "output_type": "stream",
     "text": [
      "+----------+-----+\n",
      "|      data|valor|\n",
      "+----------+-----+\n",
      "|01/06/1986| 1.27|\n",
      "|01/07/1986| 1.95|\n",
      "|01/08/1986| 2.57|\n",
      "|01/09/1986| 2.94|\n",
      "|01/10/1986| 1.96|\n",
      "+----------+-----+\n",
      "only showing top 5 rows\n",
      "\n"
     ]
    }
   ],
   "source": [
    "# Listar as 5 primeiras linhas\n",
    "\n",
    "juros.show(5)"
   ]
  },
  {
   "cell_type": "code",
   "execution_count": 8,
   "metadata": {},
   "outputs": [],
   "source": [
    "# Salvar o Dataframe como juros no formato de tabela Hive\n",
    "\n",
    "juros.write.saveAsTable(\"juros\")\n",
    "\n",
    "# Salvará nesse endereço padrão hdfs://namenode:8020/user/hive/warehouse"
   ]
  },
  {
   "cell_type": "code",
   "execution_count": 11,
   "metadata": {},
   "outputs": [
    {
     "name": "stdout",
     "output_type": "stream",
     "text": [
      "Found 2 items\r\n",
      "-rw-r--r--   2 root supergroup          0 2021-06-25 18:26 /user/hive/warehouse/juros/_SUCCESS\r\n",
      "-rw-r--r--   2 root supergroup       3883 2021-06-25 18:26 /user/hive/warehouse/juros/part-00000-6cbe76e6-aa1e-48d6-9ed0-9e28763a82bd-c000.snappy.parquet\r\n"
     ]
    }
   ],
   "source": [
    "# Criada tabela no formato do Hive utilizando a compressão SNAPPY e no formato padrão PARQUET\n",
    "!hdfs dfs -ls /user/hive/warehouse/juros"
   ]
  },
  {
   "cell_type": "code",
   "execution_count": 12,
   "metadata": {},
   "outputs": [
    {
     "data": {
      "text/plain": [
       "[Database(name='default', description='Default Hive database', locationUri='hdfs://namenode:8020/user/hive/warehouse')]"
      ]
     },
     "execution_count": 12,
     "metadata": {},
     "output_type": "execute_result"
    }
   ],
   "source": [
    "# Visualizar todas as tabelas com o catalog\n",
    "\n",
    "spark.catalog.listDatabases()\n"
   ]
  },
  {
   "cell_type": "code",
   "execution_count": 14,
   "metadata": {},
   "outputs": [
    {
     "name": "stdout",
     "output_type": "stream",
     "text": [
      "Found 1 items\r\n",
      "drwxr-xr-x   - root supergroup          0 2021-06-25 18:26 /user/hive/warehouse/juros\r\n"
     ]
    }
   ],
   "source": [
    "# Visualizar no hdfs o formato e compressão que está a tabela juros do Hive\n",
    "\n",
    "!hdfs dfs -ls /user/hive/warehouse\n",
    "\n",
    "# por padrão o Spark salva comprimido SNAPPY E PARQUET"
   ]
  },
  {
   "cell_type": "code",
   "execution_count": 15,
   "metadata": {},
   "outputs": [
    {
     "name": "stdout",
     "output_type": "stream",
     "text": [
      "+----------+-----+\n",
      "|      data|valor|\n",
      "+----------+-----+\n",
      "|01/06/1986| 1.27|\n",
      "|01/07/1986| 1.95|\n",
      "|01/08/1986| 2.57|\n",
      "|01/09/1986| 2.94|\n",
      "|01/10/1986| 1.96|\n",
      "+----------+-----+\n",
      "only showing top 5 rows\n",
      "\n"
     ]
    }
   ],
   "source": [
    "# Ler e visualizar os dados da tabela juros, com uso de Dataframe no formato de Tabela Hive\n",
    "\n",
    "spark.read.table(\"juros\").show(5)\n"
   ]
  },
  {
   "cell_type": "code",
   "execution_count": 16,
   "metadata": {},
   "outputs": [
    {
     "name": "stdout",
     "output_type": "stream",
     "text": [
      "+----------+-----+\n",
      "|      data|valor|\n",
      "+----------+-----+\n",
      "|01/06/1986| 1.27|\n",
      "|01/07/1986| 1.95|\n",
      "|01/08/1986| 2.57|\n",
      "|01/09/1986| 2.94|\n",
      "|01/10/1986| 1.96|\n",
      "+----------+-----+\n",
      "only showing top 5 rows\n",
      "\n"
     ]
    }
   ],
   "source": [
    "# Ler e visualizar os dados da tabela juros , com uso de Dataframe no formato Parquet\n",
    "\n",
    "spark.read.parquet(\"/user/hive/warehouse/juros/\").show(5)"
   ]
  },
  {
   "cell_type": "code",
   "execution_count": null,
   "metadata": {},
   "outputs": [],
   "source": []
  }
 ],
 "metadata": {
  "kernelspec": {
   "display_name": "PySpark",
   "language": "python",
   "name": "pyspark"
  },
  "language_info": {
   "codemirror_mode": {
    "name": "ipython",
    "version": 3
   },
   "file_extension": ".py",
   "mimetype": "text/x-python",
   "name": "python",
   "nbconvert_exporter": "python",
   "pygments_lexer": "ipython3",
   "version": "3.6.10"
  }
 },
 "nbformat": 4,
 "nbformat_minor": 2
}
